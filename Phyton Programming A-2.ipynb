{
 "cells": [
  {
   "cell_type": "markdown",
   "id": "5be632c9-eec2-408c-a11b-f73239d72745",
   "metadata": {},
   "source": [
    "## Phyton Programming "
   ]
  },
  {
   "cell_type": "markdown",
   "id": "17c6e4be-1436-4370-b54e-c22ab86988b0",
   "metadata": {},
   "source": [
    "## Task -I\n"
   ]
  },
  {
   "cell_type": "markdown",
   "id": "c5994d89-da2b-45e2-b084-8f3bbf06b545",
   "metadata": {},
   "source": [
    "## Task -I\n"
   ]
  },
  {
   "cell_type": "markdown",
   "id": "242ada0d-ce74-44e9-b7da-4af0454f814f",
   "metadata": {},
   "source": [
    "## Phyton Programming "
   ]
  },
  {
   "cell_type": "markdown",
   "id": "6292dc9f-1d32-4208-9009-66c68177afba",
   "metadata": {},
   "source": [
    "### 1. Ramesh's basic salary is input through the keyboard. His dearness allowance is 40% of basic salary, and house rent allowance is 20% of basic salary. Write a program to calculate his gross salary."
   ]
  },
  {
   "cell_type": "code",
   "execution_count": 9,
   "id": "336e3a02-8107-4fff-be3e-ea019c27998f",
   "metadata": {},
   "outputs": [],
   "source": [
    "## Ans - \n",
    "da = 0.40  * basic_salary\n",
    "hra = 0.20 *basic_salary"
   ]
  },
  {
   "cell_type": "code",
   "execution_count": 10,
   "id": "8119bcad-abe8-47f7-8551-fced7e06969b",
   "metadata": {
    "scrolled": true
   },
   "outputs": [
    {
     "name": "stdin",
     "output_type": "stream",
     "text": [
      "Enter Ramesh's basic salary:  20000\n"
     ]
    },
    {
     "name": "stdout",
     "output_type": "stream",
     "text": [
      "Ramesh's gross salary is: 12000.00\n"
     ]
    }
   ],
   "source": [
    "# Gross Salary -\n",
    "gross_salary = da + hra\n",
    "basic_salary = float(input(\"Enter Ramesh's basic salary: \"))\n",
    "print(f\"Ramesh's gross salary is: {gross_salary:.2f}\")\n"
   ]
  },
  {
   "cell_type": "markdown",
   "id": "10e61563-2733-47c4-bde4-54f1dd355642",
   "metadata": {},
   "source": [
    "### 2. The distance between two cities (in km.) is input through the keyboard. Write a program to convert and print this distance in meters, feet, inches and centimeters."
   ]
  },
  {
   "cell_type": "code",
   "execution_count": null,
   "id": "4f449e99-26cb-4cb1-bcf7-bc74401d557b",
   "metadata": {},
   "outputs": [],
   "source": [
    "## Ans -\n",
    "# 1 kilometer = 1000 meters \n",
    "# 1 kilometer = 3280.84 feet\n",
    "# 1 kilometer = 39370.1 inches\n",
    "# 1 kilometer = 100000 centimeters"
   ]
  },
  {
   "cell_type": "code",
   "execution_count": 11,
   "id": "3e2a4ebd-0590-4e6d-b225-2cc0577c20bc",
   "metadata": {},
   "outputs": [],
   "source": [
    "def convert_distance(km):\n",
    "    meters = km*1000\n",
    "    feet = km*3280.84\n",
    "    inches = km*39370.1\n",
    "    centimeters =km*100000"
   ]
  },
  {
   "cell_type": "code",
   "execution_count": null,
   "id": "92086b38-d371-4efc-88a3-5cf9fc1ad6b0",
   "metadata": {},
   "outputs": [],
   "source": [
    "distance_km = float(input(\"Enter the distance between two cities (in kilometers): \"))\n",
    "meters, feet, inches, centimeters = convert_distance(distance_km)"
   ]
  },
  {
   "cell_type": "markdown",
   "id": "6db6a9b5-79b8-49a7-b763-d19df7d289eb",
   "metadata": {},
   "source": [
    "## 3. If the marks obtained by a student in five different subjects are input through the keyboard, find out the aggregate marks and percentage marks obtained by the student. Assume that the maximum marks that can be obtained by a student in each subject is 100."
   ]
  },
  {
   "cell_type": "code",
   "execution_count": 11,
   "id": "23cda9d7-9f67-4206-ad17-656737aeab82",
   "metadata": {},
   "outputs": [
    {
     "name": "stdin",
     "output_type": "stream",
     "text": [
      "Enter marks obtained in subject 1:  80\n",
      "Enter marks obtained in subject 2:  90\n",
      "Enter marks obtained in subject 3:  75\n",
      "Enter marks obtained in subject 4:  89\n",
      "Enter marks obtained in subject 5:  67\n"
     ]
    }
   ],
   "source": [
    "## Ans - \n",
    "subject1 = 80\n",
    "subject2 = 90\n",
    "subject3 = 75\n",
    "subject4 = 89\n",
    "subject5 = 67\n",
    "\n",
    "\n",
    "subject1 = float(input(\"Enter marks obtained in subject 1: \"))\n",
    "subject2 = float(input(\"Enter marks obtained in subject 2: \"))\n",
    "subject3 = float(input(\"Enter marks obtained in subject 3: \"))\n",
    "subject4 = float(input(\"Enter marks obtained in subject 4: \"))\n",
    "subject5 = float(input(\"Enter marks obtained in subject 5: \"))"
   ]
  },
  {
   "cell_type": "code",
   "execution_count": 18,
   "id": "b68f9cec-eb78-4b3c-bc41-edad10487ec4",
   "metadata": {},
   "outputs": [
    {
     "name": "stdout",
     "output_type": "stream",
     "text": [
      "401\n"
     ]
    }
   ],
   "source": [
    "aggregate_marks = subject1 + subject2 + subject3 + subject4 + subject5\n",
    "print(int(aggregate_marks))"
   ]
  },
  {
   "cell_type": "code",
   "execution_count": 19,
   "id": "f22c4a7f-ca47-4f54-bae3-e8b08c6b727b",
   "metadata": {},
   "outputs": [],
   "source": [
    "total_maximum_marks = 500"
   ]
  },
  {
   "cell_type": "code",
   "execution_count": 28,
   "id": "0982bd7c-ea7d-411a-ab92-e930be3d65ef",
   "metadata": {},
   "outputs": [
    {
     "name": "stdout",
     "output_type": "stream",
     "text": [
      "Total Percentage of marks - 80\n"
     ]
    }
   ],
   "source": [
    "percentage_marks = (aggregate_marks / total_maximum_marks) * 100\n",
    "print('Total Percentage of marks -',(int(percentage_marks)))"
   ]
  },
  {
   "cell_type": "markdown",
   "id": "0d33be1b-2228-43e6-8126-13a8a4dc341c",
   "metadata": {},
   "source": [
    "### 4. Temperature of a city in Fahrenheit degrees is input through the keyboard. Write a program to convert this temperature into Centigrade degrees."
   ]
  },
  {
   "cell_type": "code",
   "execution_count": 30,
   "id": "65e85d1f-9596-48e3-801b-8a3f66f642a2",
   "metadata": {},
   "outputs": [
    {
     "name": "stdin",
     "output_type": "stream",
     "text": [
      "Enter temperature in Fahrenheit:  100\n"
     ]
    },
    {
     "name": "stdout",
     "output_type": "stream",
     "text": [
      "The temperature in Celsius is:  37.77777777777778\n"
     ]
    }
   ],
   "source": [
    "## ANs - \n",
    "fahrenheit = float(input(\"Enter temperature in Fahrenheit: \"))\n",
    "\n",
    "celsius = (fahrenheit - 32) * 5 / 9\n",
    "\n",
    "print('The temperature in Celsius is: ',celsius)"
   ]
  },
  {
   "cell_type": "markdown",
   "id": "1ea41d85-ad84-42c2-977b-cfac77f655bf",
   "metadata": {},
   "source": [
    "### 5. The length & breadth of a rectangle and radius of a circle are input through the keyboard. Write a program to calculate the area & perimeter of the rectangle, and the area & circumference of the circle. "
   ]
  },
  {
   "cell_type": "code",
   "execution_count": 41,
   "id": "d2c735fb-c3ce-43c1-816b-a3d3cc3ceceb",
   "metadata": {},
   "outputs": [],
   "source": [
    "## Ans - \n",
    "import math\n",
    "PI = 3.14159"
   ]
  },
  {
   "cell_type": "code",
   "execution_count": 47,
   "id": "1f88c30c-5f06-4805-acb5-464983ec9f8c",
   "metadata": {},
   "outputs": [
    {
     "name": "stdin",
     "output_type": "stream",
     "text": [
      "Enter the length of the rectangle:  10\n",
      "Enter the breadth of the rectangle:  20\n",
      "Enter the radius of the circle:  12\n"
     ]
    }
   ],
   "source": [
    "length = float(input(\"Enter the length of the rectangle: \"))\n",
    "breadth = float(input(\"Enter the breadth of the rectangle: \"))\n",
    "radius = float(input(\"Enter the radius of the circle: \"))"
   ]
  },
  {
   "cell_type": "code",
   "execution_count": 49,
   "id": "c3a1c8a7-1289-4fd1-baeb-ae7050d0ee87",
   "metadata": {},
   "outputs": [],
   "source": [
    "area_rectangle = 2*(length + breadth)\n",
    "area_circle = PI * radius ** 2"
   ]
  },
  {
   "cell_type": "code",
   "execution_count": 51,
   "id": "590129e0-69f6-433e-96c3-df0d31028d3a",
   "metadata": {},
   "outputs": [
    {
     "name": "stdout",
     "output_type": "stream",
     "text": [
      "60\n",
      "452\n"
     ]
    }
   ],
   "source": [
    "print(int(area_rectangle))\n",
    "print(int(area_circle))"
   ]
  },
  {
   "cell_type": "markdown",
   "id": "c452e2e0-ff04-47b6-b575-aad4219b74b4",
   "metadata": {},
   "source": [
    "### 6. Two numbers are input through the keyboard into two locations C and D. Write a program to interchange the contents of C and D. "
   ]
  },
  {
   "cell_type": "code",
   "execution_count": 52,
   "id": "f92827b8-137c-4ec5-a380-21fcfdd05c03",
   "metadata": {},
   "outputs": [
    {
     "name": "stdin",
     "output_type": "stream",
     "text": [
      "Enter the first number (C):  10\n",
      "Enter the second number (D):  20\n"
     ]
    }
   ],
   "source": [
    "## ANs -\n",
    "C = float(input(\"Enter the first number (C): \"))\n",
    "D = float(input(\"Enter the second number (D): \"))"
   ]
  },
  {
   "cell_type": "code",
   "execution_count": 54,
   "id": "3849396b-d103-4bdc-a81b-79aaa8c4a985",
   "metadata": {},
   "outputs": [],
   "source": [
    "C, D = D , C"
   ]
  },
  {
   "cell_type": "code",
   "execution_count": 57,
   "id": "100b40b4-4e8c-4c58-a34d-05c09e323951",
   "metadata": {},
   "outputs": [
    {
     "name": "stdout",
     "output_type": "stream",
     "text": [
      "20\n",
      "10\n"
     ]
    }
   ],
   "source": [
    "print(int(D))\n",
    "print(int(C))"
   ]
  },
  {
   "cell_type": "markdown",
   "id": "0cba52f6-4254-416e-af1c-b3bb1953c8d6",
   "metadata": {},
   "source": [
    "### 7. If a five-digit number is input through the keyboard, write a program to calculate the sum of its digits. ( Hint: Use the modulus operator '%')"
   ]
  },
  {
   "cell_type": "code",
   "execution_count": 64,
   "id": "a02a7164-7f17-48e0-9020-1d4f3b1a4c51",
   "metadata": {},
   "outputs": [
    {
     "name": "stdin",
     "output_type": "stream",
     "text": [
      "Enter a five-digit number:  12345\n"
     ]
    },
    {
     "name": "stdout",
     "output_type": "stream",
     "text": [
      "The sum of the digits is: 15\n"
     ]
    }
   ],
   "source": [
    "## Ans - \n",
    "number = input(\"Enter a five-digit number: \")\n",
    "\n",
    "if len(number) == 5 and number.isdigit():\n",
    "    sum_of_digits = sum(int(digit) for digit in number)\n",
    "\n",
    "    print(f\"The sum of the digits is: {sum_of_digits}\")\n",
    "else:\n",
    "    print(\"Please enter a valid five-digit number.\")\n"
   ]
  },
  {
   "cell_type": "markdown",
   "id": "1276ef4c-70e8-41f4-bfad-82de3fe389be",
   "metadata": {},
   "source": [
    "### 8. If a five-digit number is input through the keyboard, write a program to reverse the number."
   ]
  },
  {
   "cell_type": "code",
   "execution_count": 71,
   "id": "d3413c9b-6f3f-4f56-9d30-61cd2e5d74ce",
   "metadata": {},
   "outputs": [
    {
     "name": "stdin",
     "output_type": "stream",
     "text": [
      "Enter a five-digit number:  12345\n"
     ]
    }
   ],
   "source": [
    "## Ans - \n",
    "number = input(\"Enter a five-digit number: \")"
   ]
  },
  {
   "cell_type": "code",
   "execution_count": 73,
   "id": "2a68f24f-3f1a-4fd6-be29-41348053d8b3",
   "metadata": {},
   "outputs": [
    {
     "name": "stdout",
     "output_type": "stream",
     "text": [
      "The reversed number is: 54321\n"
     ]
    }
   ],
   "source": [
    "if len(number) == 5:\n",
    "    \n",
    "    reversed_number = str(int(number[::-1]))\n",
    "\n",
    "    print(f\"The reversed number is: {reversed_number}\")\n",
    "else:\n",
    "    print(\"Please enter a valid five-digit number.\")"
   ]
  },
  {
   "cell_type": "markdown",
   "id": "9f1006b7-b521-4d72-a941-95bb8f2c3142",
   "metadata": {},
   "source": [
    "### 9. If a four-digit number is input through the keyboard, write a program to obtain the sum of the first and last digit of this number."
   ]
  },
  {
   "cell_type": "code",
   "execution_count": 74,
   "id": "afd7aee8-fe37-49c0-9b0a-287dcc48ece1",
   "metadata": {},
   "outputs": [
    {
     "name": "stdin",
     "output_type": "stream",
     "text": [
      "Enter a five-digit number:  1234\n"
     ]
    }
   ],
   "source": [
    "### Ans - \n",
    "number = input(\"Enter a five-digit number: \")"
   ]
  },
  {
   "cell_type": "code",
   "execution_count": 87,
   "id": "f932c4c0-737a-40b1-8233-79057624e4f0",
   "metadata": {},
   "outputs": [
    {
     "name": "stdout",
     "output_type": "stream",
     "text": [
      "The sum of the first and last digits is: 5\n"
     ]
    }
   ],
   "source": [
    "if len(number) == 4:\n",
    "    first_digit = int(number[0])\n",
    "    last_digit = int(number[-1])\n",
    "    print(f\"The sum of the first and last digits is: {digit_sum}\")\n",
    "else:\n",
    "    print(\"Please enter a valid four-digit number.\")"
   ]
  },
  {
   "cell_type": "markdown",
   "id": "9189d0ba-fe79-48d5-a750-21b6c8644abf",
   "metadata": {},
   "source": [
    "#### 10. In a town, the percentage of men is 52. The percentage of total literacy is 48. If total percentage of literate men is 35 of the total population, write a program to find the total number of illiterate men and women if the population of the town is 80,000. "
   ]
  },
  {
   "cell_type": "code",
   "execution_count": 88,
   "id": "ddd9549b-650f-41d8-a356-e1c5a812e380",
   "metadata": {},
   "outputs": [
    {
     "name": "stdout",
     "output_type": "stream",
     "text": [
      "Total illiterate men: 13600.0\n",
      "Total illiterate women: 28000.0\n"
     ]
    }
   ],
   "source": [
    "## Ans -\n",
    "def calculate_population_stats(population, percentage_men, percentage_literacy, percentage_literate_men):\n",
    "    total_men = population * percentage_men\n",
    "    total_women = population - total_men\n",
    "\n",
    "    literate_men = population * percentage_literate_men\n",
    "    illiterate_men = total_men - literate_men\n",
    "\n",
    "    literate_women = (population * percentage_literacy) - literate_men\n",
    "    illiterate_women = total_women - literate_women\n",
    "\n",
    "    return illiterate_men, illiterate_women\n",
    "\n",
    "population = 80000             ## total popullation\n",
    "percentage_men = 0.52         # Percentage of men\n",
    "percentage_literacy = 0.48     # Total literacy percentage\n",
    "percentage_literate_men = 0.35  # Percentage of literate men\n",
    "\n",
    "illiterate_men, illiterate_women = calculate_population_stats(population, percentage_men, percentage_literacy, percentage_literate_men)\n",
    "\n",
    "print(f\"Total illiterate men: {illiterate_men}\")\n",
    "print(f\"Total illiterate women: {illiterate_women}\")\n"
   ]
  },
  {
   "cell_type": "markdown",
   "id": "4f70ec6d-089b-4d0b-8d8b-e74f064e82a8",
   "metadata": {},
   "source": [
    "### 11. A cashier has currency notes of denominations 10, 50 and 100. If the amount to be withdrawn is input through the keyboard in hundreds, find the total number of currency notes of each denomination the cashier will have to give to the withdrawer."
   ]
  },
  {
   "cell_type": "code",
   "execution_count": 97,
   "id": "97e74dc3-e09d-4585-ae53-6e274f649815",
   "metadata": {},
   "outputs": [
    {
     "name": "stdin",
     "output_type": "stream",
     "text": [
      "Enter the amount to be withdrawn (in hundreds):  1200\n"
     ]
    }
   ],
   "source": [
    "### Ans - \n",
    "amount_hundreds = int(input(\"Enter the amount to be withdrawn (in hundreds): \"))"
   ]
  },
  {
   "cell_type": "code",
   "execution_count": 112,
   "id": "9f147a7f-cbb1-4d4d-b415-4612bc4b4d1b",
   "metadata": {},
   "outputs": [],
   "source": [
    "amount = amount_hundreds * 100"
   ]
  },
  {
   "cell_type": "code",
   "execution_count": 113,
   "id": "8d0a652f-0c35-4400-aa9f-d08de36451fd",
   "metadata": {},
   "outputs": [],
   "source": [
    "notes_100 = amount // 100\n",
    "amount %= 100\n",
    "\n",
    "notes_50 = amount // 50\n",
    "amount %= 50\n",
    "\n",
    "notes_10 = amount // 10"
   ]
  },
  {
   "cell_type": "code",
   "execution_count": 114,
   "id": "05a5b46f-889a-47e2-86a6-de1b5d09e802",
   "metadata": {},
   "outputs": [
    {
     "name": "stdout",
     "output_type": "stream",
     "text": [
      "Currency notes to be given :\n",
      "\n",
      "100 denomination notes: 1200\n",
      "50 denomination notes: 0\n",
      "10 denomination notes: 0\n"
     ]
    }
   ],
   "source": [
    "print(\"Currency notes to be given :\\n\")\n",
    "print(\"100 denomination notes:\", notes_100)\n",
    "print(\"50 denomination notes:\", notes_50)\n",
    "print(\"10 denomination notes:\", notes_10)"
   ]
  },
  {
   "cell_type": "markdown",
   "id": "3e52365e-14b1-434c-b1f0-09a1f2a42615",
   "metadata": {},
   "source": [
    "### 12. If the total selling price of 15 items and the total profit earned on them is input through the keyboard, write a program to find the cost price of one item. "
   ]
  },
  {
   "cell_type": "code",
   "execution_count": 118,
   "id": "3db580c5-397d-4ef6-a54b-9f0d15d1feee",
   "metadata": {},
   "outputs": [
    {
     "name": "stdin",
     "output_type": "stream",
     "text": [
      "Enter the total selling price of 15 items:  3200\n",
      "Enter the total profit earned on these items:  300\n"
     ]
    },
    {
     "name": "stdout",
     "output_type": "stream",
     "text": [
      "Cost price of one item is: 193.33\n"
     ]
    }
   ],
   "source": [
    "## Ans -\n",
    "total_selling_price = float(input(\"Enter the total selling price of 15 items: \"))\n",
    "total_profit = float(input(\"Enter the total profit earned on these items: \"))\n",
    "\n",
    "# Cost Price = Selling Price - Profit\n",
    "total_cost_price = total_selling_price - total_profit\n",
    "\n",
    "# Cost Price per item = Total Cost Price / Number of items\n",
    "cost_price_per_item = total_cost_price / 15\n",
    "\n",
    "print(\"Cost price of one item is:\", round(cost_price_per_item, 2))\n"
   ]
  },
  {
   "cell_type": "markdown",
   "id": "aa581755-fa1f-45df-a2af-c849e9e39fe6",
   "metadata": {},
   "source": [
    "#### 13. If a five-digit number is input through the keyboard, write a program to print a new number by adding one to each of its digits. For example, if the number that is input is 12391 then the output should be displayed as 23402. "
   ]
  },
  {
   "cell_type": "code",
   "execution_count": 119,
   "id": "30c616ef-a9f9-4cb6-9b6f-937e77e526b1",
   "metadata": {},
   "outputs": [
    {
     "name": "stdin",
     "output_type": "stream",
     "text": [
      "Enter a five-digit number:  12391\n"
     ]
    }
   ],
   "source": [
    "## Ans - \n",
    "number = input(\"Enter a five-digit number: \")"
   ]
  },
  {
   "cell_type": "code",
   "execution_count": 125,
   "id": "60a01b51-4d64-4253-b146-c816845abb5b",
   "metadata": {},
   "outputs": [
    {
     "name": "stdout",
     "output_type": "stream",
     "text": [
      "The new number is: 23402\n"
     ]
    }
   ],
   "source": [
    "if len(number) == 5 and number.isdigit():\n",
    "   \n",
    "    new_number = \"\"\n",
    "\n",
    "    \n",
    "    for digit in number:\n",
    "        new_digit = (int(digit) + 1) % 10  # Add 1 and handle wrap-around\n",
    "        new_number += str(new_digit)\n",
    "\n",
    "   \n",
    "    print(\"The new number is:\", new_number)\n",
    "else:\n",
    "    print(\"Please enter a valid five-digit number.\")\n"
   ]
  },
  {
   "cell_type": "markdown",
   "id": "c4d01ea5-3ab8-49dc-aa21-23898b9e35c2",
   "metadata": {},
   "source": [
    "### Task -II \n"
   ]
  },
  {
   "cell_type": "markdown",
   "id": "f81c0199-b5d1-43de-9dc0-cc9d0fef7441",
   "metadata": {},
   "source": [
    "### Task -II \n"
   ]
  },
  {
   "cell_type": "markdown",
   "id": "7efff0e1-3c7c-4c56-94e2-de18d77cf42a",
   "metadata": {},
   "source": [
    "#### 1. While purchasing certain items, a discount of 10% is offered if the quantity purchased is more than 10. If quantity and price per item are input through the keyboard, write a program to calculate the total expenses."
   ]
  },
  {
   "cell_type": "code",
   "execution_count": 127,
   "id": "4ef6ab65-9803-4bf2-a15b-b944a9d345dd",
   "metadata": {},
   "outputs": [
    {
     "name": "stdin",
     "output_type": "stream",
     "text": [
      "Enter the quantity of items:  25\n",
      "Enter the price per item:  100\n"
     ]
    }
   ],
   "source": [
    "### Ans - \n",
    "quantity = int(input(\"Enter the quantity of items: \"))\n",
    "price_per_item = float(input(\"Enter the price per item: \"))\n",
    "\n"
   ]
  },
  {
   "cell_type": "code",
   "execution_count": 128,
   "id": "e30290a7-4359-4ab2-b328-d587d87e21bb",
   "metadata": {},
   "outputs": [],
   "source": [
    "## Total Cost -\n",
    "total_cost = quantity * price_per_item"
   ]
  },
  {
   "cell_type": "code",
   "execution_count": 131,
   "id": "2507d7d4-102e-4525-bd6c-7a7f82a2f8d0",
   "metadata": {},
   "outputs": [
    {
     "name": "stdout",
     "output_type": "stream",
     "text": [
      "The total expenses after discount (if applicable) are: 1822.50\n"
     ]
    }
   ],
   "source": [
    "if quantity > 10:\n",
    "    discount = total_cost * 0.10  # 10% discount\n",
    "    total_cost -= discount  # Subtract discount from total cost\n",
    "\n",
    "print(f\"The total expenses after discount (if applicable) are: {total_cost:.2f}\")"
   ]
  },
  {
   "cell_type": "markdown",
   "id": "803b7d17-263c-400d-bd8c-e1f9723bc9cf",
   "metadata": {},
   "source": [
    "### 2. The current year and the year in which the employee joined the organization are entered through the keyboard. If the number of years for which the employee has served the organization is greater than 3 then a bonus of Rs. 2500/- is given to the employee. If the years of service are not greater than 3, then the program should do nothing."
   ]
  },
  {
   "cell_type": "code",
   "execution_count": 3,
   "id": "ac6634d7-3017-4f76-b0ff-05b7ac35fab3",
   "metadata": {},
   "outputs": [
    {
     "name": "stdin",
     "output_type": "stream",
     "text": [
      "Enter the current year:  2024\n",
      "Enter the year the employee joined:  2020\n"
     ]
    }
   ],
   "source": [
    "## Ans -\n",
    "current_year = int(input(\"Enter the current year: \"))\n",
    "joining_year = int(input(\"Enter the year the employee joined: \"))"
   ]
  },
  {
   "cell_type": "code",
   "execution_count": 2,
   "id": "9b59ec17-12f2-4908-9fe0-963d57acc98b",
   "metadata": {},
   "outputs": [],
   "source": [
    "years_of_service = current_year - joining_year"
   ]
  },
  {
   "cell_type": "code",
   "execution_count": 6,
   "id": "b285d02a-b399-4e79-ac15-1631f710cd9e",
   "metadata": {},
   "outputs": [
    {
     "name": "stdout",
     "output_type": "stream",
     "text": [
      "The employee has served for 4 years and is eligible for a bonus of Rs. 2500.\n"
     ]
    }
   ],
   "source": [
    "if years_of_service > 3:\n",
    "    bonus = 2500  # Rs. 2500 bonus\n",
    "    print(f\"The employee has served for {years_of_service} years and is eligible for a bonus of Rs. {bonus}.\")\n",
    "else:\n",
    "    print(f\"The employee has served for {years_of_service} years and is not eligible for a bonus.\")\n"
   ]
  },
  {
   "cell_type": "markdown",
   "id": "d7e42b1d-d78e-4a23-a585-8b00c7721e19",
   "metadata": {},
   "source": [
    "### 3. If his basic salary is less than Rs. 1500, then HRA = 10% of basic salary and DA = 90% of basic salary. If his salary is either equal to or above Rs. 1500, then HRA = Rs. 500 and DA = 98% of basic salary. If the employee's salary is input through the keyboard write a program to find his gross salary"
   ]
  },
  {
   "cell_type": "code",
   "execution_count": 8,
   "id": "3456006a-a489-4728-ab03-c0d4ce97f018",
   "metadata": {},
   "outputs": [
    {
     "name": "stdin",
     "output_type": "stream",
     "text": [
      "Enter the basic salary:  20000\n"
     ]
    }
   ],
   "source": [
    "## Ans -\n",
    "basic_salary = float(input(\"Enter the basic salary: \"))"
   ]
  },
  {
   "cell_type": "code",
   "execution_count": 9,
   "id": "e74ced92-b6d1-4d44-8e08-830928f6854d",
   "metadata": {},
   "outputs": [],
   "source": [
    "if basic_salary < 1500:\n",
    "    HRA = 0.10 * basic_salary  # 10% of basic salary\n",
    "    DA = 0.90 * basic_salary   # 90% of basic salary\n",
    "else:\n",
    "    HRA = 500  # Fixed Rs. 500\n",
    "    DA = 0.98 * basic_salary   # 98% of basic salary"
   ]
  },
  {
   "cell_type": "code",
   "execution_count": 10,
   "id": "12d158bb-b14a-4cdb-8356-c0d822e0706a",
   "metadata": {},
   "outputs": [],
   "source": [
    "gross_salary = basic_salary + HRA + DA"
   ]
  },
  {
   "cell_type": "code",
   "execution_count": 12,
   "id": "ef303cd5-9d7f-4623-88e2-5107dd4294c4",
   "metadata": {},
   "outputs": [
    {
     "name": "stdout",
     "output_type": "stream",
     "text": [
      "The gross Salary is -  40100.0\n"
     ]
    }
   ],
   "source": [
    "print('The gross Salary is - ',gross_salary)\n"
   ]
  },
  {
   "cell_type": "markdown",
   "id": "3ad87106-becd-4ba8-ae66-483453979b1d",
   "metadata": {},
   "source": [
    "### 4. The marks obtained by a student in 5 different subjects are input through the keyboard. The student gets a division as per the following rules: Write a program to calculate the \n",
    "division obtained by the student. \n",
    "a. Percentage above or equal to 60 - First division \n",
    "b. Percentage between 50 and 59 - Second division \n",
    "c. Percentage between 40 and 49 - Third division \n",
    "d. Percentage less than 40 – Fail"
   ]
  },
  {
   "cell_type": "code",
   "execution_count": 13,
   "id": "dfedcb0f-74da-4086-ad53-8461fa60914d",
   "metadata": {},
   "outputs": [
    {
     "name": "stdin",
     "output_type": "stream",
     "text": [
      "Enter marks for subject 1:  55\n",
      "Enter marks for subject 2:  63\n",
      "Enter marks for subject 3:  32\n",
      "Enter marks for subject 4:  45\n",
      "Enter marks for subject 5:  88\n"
     ]
    },
    {
     "name": "stdout",
     "output_type": "stream",
     "text": [
      "The student obtained a percentage of 56.60% and is placed in Second division.\n"
     ]
    }
   ],
   "source": [
    "## Ans - \n",
    "marks = []\n",
    "for i in range(5):\n",
    "    mark = float(input(f\"Enter marks for subject {i+1}: \"))\n",
    "    marks.append(mark)\n",
    "\n",
    "total_marks = sum(marks)\n",
    "percentage = (total_marks / 500) * 100  # Assuming each subject is out of 100\n",
    "\n",
    "if percentage >= 60:\n",
    "    division = \"First division\"\n",
    "elif 50 <= percentage < 60:\n",
    "    division = \"Second division\"\n",
    "elif 40 <= percentage < 50:\n",
    "    division = \"Third division\"\n",
    "else:\n",
    "    division = \"Fail\"\n",
    "\n",
    "print(f\"The student obtained a percentage of {percentage:.2f}% and is placed in {division}.\")\n"
   ]
  },
  {
   "cell_type": "markdown",
   "id": "8ad17859-1f6e-4f11-852a-4e4da246df90",
   "metadata": {},
   "source": [
    "### 5. A company insures its drivers in the following cases: \n",
    "a. If the driver is married. \n",
    "b. If the driver is unmarried, male & above 30 years of age. \n",
    "c. If the driver is unmarried, female & above 25 years of age."
   ]
  },
  {
   "cell_type": "code",
   "execution_count": 17,
   "id": "9944c4e7-1fe3-4c60-9d26-336fec076d3b",
   "metadata": {},
   "outputs": [
    {
     "name": "stdin",
     "output_type": "stream",
     "text": [
      "Is the driver married? (yes/no):  no\n",
      "Enter gender (male/female):  male\n",
      "Enter age:  28\n"
     ]
    }
   ],
   "source": [
    "## Ans - \n",
    "marital_status = input(\"Is the driver married? (yes/no): \").lower()\n",
    "if marital_status == \"no\":\n",
    "    gender = input(\"Enter gender (male/female): \").lower()\n",
    "    age = int(input(\"Enter age: \"))"
   ]
  },
  {
   "cell_type": "code",
   "execution_count": 18,
   "id": "33523689-c417-41e8-a5b7-874f4c277220",
   "metadata": {},
   "outputs": [
    {
     "name": "stdout",
     "output_type": "stream",
     "text": [
      "The driver is not eligible for insurance.\n"
     ]
    }
   ],
   "source": [
    "if marital_status == \"yes\":\n",
    "    print(\"The driver is eligible for insurance.\")\n",
    "elif marital_status == \"no\":\n",
    "    if gender == \"male\" and age > 30:\n",
    "        print(\"The driver is eligible for insurance.\")\n",
    "    elif gender == \"female\" and age > 25:\n",
    "        print(\"The driver is eligible for insurance.\")\n",
    "    else:\n",
    "        print(\"The driver is not eligible for insurance.\")\n",
    "else:\n",
    "    print(\"Invalid input.\")"
   ]
  },
  {
   "cell_type": "markdown",
   "id": "597f5ece-b78a-4589-8aa0-f129207103bd",
   "metadata": {},
   "source": [
    "### 6. Write a program to calculate the salary as per the following table: \n",
    "Gender Year of Service Qualifications Salary \n",
    "Male >= 10 Post - Graduate 15000 \n",
    ">= 10 Graduate 10000 \n",
    "< 10 Post - Graduate 10000 \n",
    "< 10 Graduate 7000 \n",
    "Female >= 10 Post - Graduate 12000 \n",
    ">= 10 Graduate 9000 \n",
    "< 10 Post - Graduate 10000 \n",
    "< 10 Graduate 6000"
   ]
  },
  {
   "cell_type": "code",
   "execution_count": 21,
   "id": "a1b30954-cfb3-4340-8baf-67d5b68df2a5",
   "metadata": {},
   "outputs": [
    {
     "name": "stdin",
     "output_type": "stream",
     "text": [
      "Enter gender (male/female):  female\n",
      "Enter years of service:  6\n",
      "Enter qualification (graduate/post-graduate):  post-graduate\n"
     ]
    }
   ],
   "source": [
    "## Ans - \n",
    "gender = input(\"Enter gender (male/female): \").lower()\n",
    "years_of_service = int(input(\"Enter years of service: \"))\n",
    "qualification = input(\"Enter qualification (graduate/post-graduate): \").lower()"
   ]
  },
  {
   "cell_type": "code",
   "execution_count": 22,
   "id": "2cdfb2a2-ccd2-49b6-9e61-20de7f61ad69",
   "metadata": {},
   "outputs": [
    {
     "name": "stdout",
     "output_type": "stream",
     "text": [
      "The calculated salary is: Rs. 10000\n"
     ]
    }
   ],
   "source": [
    "if gender == \"male\":\n",
    "    if years_of_service >= 10:\n",
    "        if qualification == \"post-graduate\":\n",
    "            salary = 15000\n",
    "        elif qualification == \"graduate\":\n",
    "            salary = 10000\n",
    "    else:\n",
    "        if qualification == \"post-graduate\":\n",
    "            salary = 10000\n",
    "        elif qualification == \"graduate\":\n",
    "            salary = 7000\n",
    "\n",
    "elif gender == \"female\":\n",
    "    if years_of_service >= 10:\n",
    "        if qualification == \"post-graduate\":\n",
    "            salary = 12000\n",
    "        elif qualification == \"graduate\":\n",
    "            salary = 9000\n",
    "    else:\n",
    "        if qualification == \"post-graduate\":\n",
    "            salary = 10000\n",
    "        elif qualification == \"graduate\":\n",
    "            salary = 6000\n",
    "\n",
    "print(f\"The calculated salary is: Rs. {salary}\")"
   ]
  },
  {
   "cell_type": "markdown",
   "id": "c9946042-73cb-42ed-8dd8-3d47044482b9",
   "metadata": {},
   "source": [
    "### 7. If cost price and selling price of an item is input through the keyboard, write a program to determine whether the seller has made profit or incurred loss. Also determine how much profit he made or loss he incurred. "
   ]
  },
  {
   "cell_type": "code",
   "execution_count": 23,
   "id": "8c38461f-5d72-4192-8a37-d551dd49e957",
   "metadata": {},
   "outputs": [
    {
     "name": "stdin",
     "output_type": "stream",
     "text": [
      "Enter the cost price of the item:  20\n",
      "Enter the selling price of the item:  30\n"
     ]
    }
   ],
   "source": [
    "## Ans - \n",
    "cost_price = float(input(\"Enter the cost price of the item: \"))\n",
    "selling_price = float(input(\"Enter the selling price of the item: \"))"
   ]
  },
  {
   "cell_type": "code",
   "execution_count": 24,
   "id": "1072e63b-bdca-42b8-9488-63bf8f30364c",
   "metadata": {},
   "outputs": [
    {
     "name": "stdout",
     "output_type": "stream",
     "text": [
      "The seller made a profit of Rs. 10.00.\n"
     ]
    }
   ],
   "source": [
    "if selling_price > cost_price:\n",
    "    profit = selling_price - cost_price\n",
    "    print(f\"The seller made a profit of Rs. {profit:.2f}.\")\n",
    "elif selling_price < cost_price:\n",
    "    loss = cost_price - selling_price\n",
    "    print(f\"The seller incurred a loss of Rs. {loss:.2f}.\")\n",
    "else:\n",
    "    print(\"There is no profit or loss, the seller broke even.\")"
   ]
  },
  {
   "cell_type": "markdown",
   "id": "f006423b-44d3-48b5-880e-8892c4937f3d",
   "metadata": {},
   "source": [
    "## 8. Any integer is input through the keyboard. Write a program to find out whether it is an odd number or even number. (Hint: Use the % (modulus) operator)"
   ]
  },
  {
   "cell_type": "code",
   "execution_count": 26,
   "id": "383f421c-0ffa-4e33-b87d-4ea3070b8a0b",
   "metadata": {},
   "outputs": [
    {
     "name": "stdin",
     "output_type": "stream",
     "text": [
      "Enter an integer:  6\n"
     ]
    }
   ],
   "source": [
    "## ANs -\n",
    "number = int(input(\"Enter an integer: \"))"
   ]
  },
  {
   "cell_type": "code",
   "execution_count": 27,
   "id": "5e893a0f-9f8d-4663-aefa-a498a2cffbd9",
   "metadata": {},
   "outputs": [
    {
     "name": "stdout",
     "output_type": "stream",
     "text": [
      "6 is an even number.\n"
     ]
    }
   ],
   "source": [
    "if number % 2 == 0:\n",
    "    print(f\"{number} is an even number.\")\n",
    "else:\n",
    "    print(f\"{number} is an odd number.\")"
   ]
  },
  {
   "cell_type": "markdown",
   "id": "b3c1c1ab-1ad2-49aa-879f-3c9452dac4e5",
   "metadata": {},
   "source": [
    "## 9. A five-digit number is entered through the keyboard. Write a program to obtain the reversed number and to determine whether the original and reversed numbers are equal or not."
   ]
  },
  {
   "cell_type": "code",
   "execution_count": 29,
   "id": "161c0475-35a9-42e7-a656-749e6feba4e4",
   "metadata": {},
   "outputs": [
    {
     "name": "stdin",
     "output_type": "stream",
     "text": [
      "Enter a five-digit number:  12345\n"
     ]
    },
    {
     "name": "stdout",
     "output_type": "stream",
     "text": [
      "The original number 12345 and reversed number 54321 are not equal.\n"
     ]
    }
   ],
   "source": [
    "## Ans - \n",
    "original_number = input(\"Enter a five-digit number: \")\n",
    "\n",
    "if original_number.isdigit() and len(original_number) == 5:\n",
    "    original_number_int = int(original_number)\n",
    "    \n",
    "    reversed_number = 0\n",
    "    temp_number = original_number_int\n",
    "\n",
    "    while temp_number > 0:\n",
    "        digit = temp_number % 10  # Get the last digit\n",
    "        reversed_number = (reversed_number * 10) + digit  # Build the reversed number\n",
    "        temp_number //= 10  # Remove the last digit from temp_number\n",
    "\n",
    "    if original_number_int == reversed_number:\n",
    "        print(f\"The original number {original_number} and reversed number {reversed_number} are equal.\")\n",
    "    else:\n",
    "        print(f\"The original number {original_number} and reversed number {reversed_number} are not equal.\")\n",
    "else:\n",
    "    print(\"Please enter a valid five-digit number.\")\n"
   ]
  },
  {
   "cell_type": "markdown",
   "id": "573808c2-a7b8-4751-b50a-0109b9da0766",
   "metadata": {},
   "source": [
    "### 10. If the ages of Ram, Shyam and Ajay are input through the keyboard, write a program to determine the youngest of the three. "
   ]
  },
  {
   "cell_type": "code",
   "execution_count": 30,
   "id": "e4127536-c4d4-40f6-91b2-1c233fe0cca6",
   "metadata": {},
   "outputs": [
    {
     "name": "stdin",
     "output_type": "stream",
     "text": [
      "Enter the age of Ram:  10\n",
      "Enter the age of Shyam:  12\n",
      "Enter the age of Ajay:  13\n"
     ]
    }
   ],
   "source": [
    "# Ans - \n",
    "ram_age = int(input(\"Enter the age of Ram: \"))\n",
    "shyam_age = int(input(\"Enter the age of Shyam: \"))\n",
    "ajay_age = int(input(\"Enter the age of Ajay: \"))\n"
   ]
  },
  {
   "cell_type": "code",
   "execution_count": 31,
   "id": "fa3c6abf-f038-4c70-a93c-6d06fce890c5",
   "metadata": {},
   "outputs": [],
   "source": [
    "if ram_age < shyam_age and ram_age < ajay_age:\n",
    "    youngest = \"Ram\"\n",
    "    youngest_age = ram_age\n",
    "elif shyam_age < ram_age and shyam_age < ajay_age:\n",
    "    youngest = \"Shyam\"\n",
    "    youngest_age = shyam_age\n",
    "elif ajay_age < ram_age and ajay_age < shyam_age:\n",
    "    youngest = \"Ajay\"\n",
    "    youngest_age = ajay_age\n",
    "else:\n",
    "    youngest = \"There is a tie in the youngest age\"\n"
   ]
  },
  {
   "cell_type": "code",
   "execution_count": 32,
   "id": "dbb357ab-946a-429e-b956-11e3f276660b",
   "metadata": {},
   "outputs": [
    {
     "name": "stdout",
     "output_type": "stream",
     "text": [
      "The youngest is Ram with age 10.\n"
     ]
    }
   ],
   "source": [
    "if youngest != \"There is a tie in the youngest age\":\n",
    "    print(f\"The youngest is {youngest} with age {youngest_age}.\")\n",
    "else:\n",
    "    print(youngest)"
   ]
  },
  {
   "cell_type": "markdown",
   "id": "f1eca416-9e5b-415e-a804-d29b5c682f31",
   "metadata": {},
   "source": [
    "### 11. Write a program to check whether a triangle is valid or not, when the three angles of the triangle are entered through the keyboard. A triangle is valid if the sum of all the three angles is equal to 180 degrees."
   ]
  },
  {
   "cell_type": "code",
   "execution_count": 34,
   "id": "96dadb10-e199-4ce7-bf30-eab9d329a40b",
   "metadata": {},
   "outputs": [
    {
     "name": "stdin",
     "output_type": "stream",
     "text": [
      "Enter the first angle of the triangle:  30\n",
      "Enter the second angle of the triangle:  90\n",
      "Enter the third angle of the triangle:  60\n"
     ]
    }
   ],
   "source": [
    "## Ans - \n",
    "angle1 = float(input(\"Enter the first angle of the triangle: \"))\n",
    "angle2 = float(input(\"Enter the second angle of the triangle: \"))\n",
    "angle3 = float(input(\"Enter the third angle of the triangle: \"))"
   ]
  },
  {
   "cell_type": "code",
   "execution_count": 35,
   "id": "ed3d91c5-49f5-4817-9ee6-06efa59d8a77",
   "metadata": {},
   "outputs": [
    {
     "name": "stdout",
     "output_type": "stream",
     "text": [
      "The triangle is valid.\n"
     ]
    }
   ],
   "source": [
    "if angle1 + angle2 + angle3 == 180:\n",
    "    print(\"The triangle is valid.\")\n",
    "else:\n",
    "    print(\"The triangle is not valid.\")"
   ]
  },
  {
   "cell_type": "markdown",
   "id": "0b770b71-57e3-419e-836e-10e9f6a9c185",
   "metadata": {},
   "source": [
    "## 12. Find the absolute value of a number entered through the keyboard. \n"
   ]
  },
  {
   "cell_type": "code",
   "execution_count": 36,
   "id": "6cd4747b-3950-4476-98fc-a15db82b2a01",
   "metadata": {},
   "outputs": [
    {
     "name": "stdin",
     "output_type": "stream",
     "text": [
      "Enter a number:  26\n"
     ]
    }
   ],
   "source": [
    "## Ans -\n",
    "number = float(input(\"Enter a number: \"))\n"
   ]
  },
  {
   "cell_type": "code",
   "execution_count": 38,
   "id": "4bb8ffdd-4bbf-4586-8b9c-94d7cf8138a2",
   "metadata": {},
   "outputs": [
    {
     "name": "stdout",
     "output_type": "stream",
     "text": [
      "The absolute value of 26.0 is 26.0.\n"
     ]
    }
   ],
   "source": [
    "absolute_value = abs(number)\n",
    "print(f\"The absolute value of {number} is {absolute_value}.\")\n"
   ]
  },
  {
   "cell_type": "markdown",
   "id": "ed13a1a9-4a83-48c0-8102-6a709edb021c",
   "metadata": {},
   "source": [
    "## 13. Given the length and breadth of a rectangle, write a program to find whether the area of the rectangle is greater than its perimeter. For example, the area of the rectangle with length = 5 and breadth = 4 is greater than its perimeter"
   ]
  },
  {
   "cell_type": "code",
   "execution_count": 39,
   "id": "98a1e2f0-fe74-4d6c-b664-809880398307",
   "metadata": {},
   "outputs": [],
   "source": [
    "## Ans - \n",
    "length = 5\n",
    "breadth = 4"
   ]
  },
  {
   "cell_type": "code",
   "execution_count": 40,
   "id": "6eb116ad-66e4-4a7d-81f9-5e5cdf97e026",
   "metadata": {},
   "outputs": [],
   "source": [
    "area = length * breadth\n",
    "perimeter = 2 * (length + breadth)"
   ]
  },
  {
   "cell_type": "code",
   "execution_count": 41,
   "id": "027fe3ef-faf4-481f-9cb6-2bfed24f04d1",
   "metadata": {},
   "outputs": [
    {
     "name": "stdout",
     "output_type": "stream",
     "text": [
      "The area of the rectangle (20) is greater than its perimeter (18).\n"
     ]
    }
   ],
   "source": [
    "if area > perimeter:\n",
    "    print(f\"The area of the rectangle ({area}) is greater than its perimeter ({perimeter}).\")\n",
    "else:\n",
    "    print(f\"The area of the rectangle ({area}) is not greater than its perimeter ({perimeter}).\")"
   ]
  },
  {
   "cell_type": "markdown",
   "id": "3a4f9266-67c7-4c37-b1a2-0f1bc1b0d4e3",
   "metadata": {},
   "source": [
    "## 14. Any year is entered through the keyboard, write a program to determine whether the year is leap or not. Use the logical operators && and ||."
   ]
  },
  {
   "cell_type": "code",
   "execution_count": 44,
   "id": "f2bdb0a0-bb27-4f72-946b-b61cc5e8a3cf",
   "metadata": {},
   "outputs": [
    {
     "name": "stdin",
     "output_type": "stream",
     "text": [
      "Enter a year:  1993\n"
     ]
    }
   ],
   "source": [
    "## Ans - \n",
    "year = int(input(\"Enter a year: \"))"
   ]
  },
  {
   "cell_type": "code",
   "execution_count": 45,
   "id": "f11176d6-81bd-4378-8f2c-cabcc9220595",
   "metadata": {},
   "outputs": [
    {
     "name": "stdout",
     "output_type": "stream",
     "text": [
      "1993 is not a leap year.\n"
     ]
    }
   ],
   "source": [
    "if (year % 4 == 0 and year % 100 != 0) or (year % 400 == 0):\n",
    "    print(f\"{year} is a leap year.\")\n",
    "else:\n",
    "    print(f\"{year} is not a leap year.\")"
   ]
  },
  {
   "cell_type": "markdown",
   "id": "129b4acb-a94d-473e-9bee-66e5707ecb06",
   "metadata": {},
   "source": [
    "## 15. A certain grade of steel is graded according to the following conditions: \n",
    "i. Hardness must be greater than 50 \n",
    "ii. Carbon content must be less than 0.7 \n",
    "iii. Tensile strength must be greater than 5600 \n",
    "The grades are as follows: \n",
    "i. Grade is 10 if all three conditions are met \n",
    "ii. Grade is 9 if conditions (i) and (ii) are met \n",
    "iii. Grade is 8 if conditions (ii) and (iii) are met \n",
    "iv. Grade is 7 if conditions (i) and (iii) are met \n",
    "v. Grade is 6 if only one condition is met \n",
    "vi. Grade is 5 if none of the conditions are met \n",
    "Write a program, which will require the user to give values of hardness, carbon content and \n",
    "tensile strength of the steel under consideration and output the grade of the steel."
   ]
  },
  {
   "cell_type": "code",
   "execution_count": 49,
   "id": "677fe537-5557-4f48-b779-bc9df956807f",
   "metadata": {},
   "outputs": [],
   "source": [
    "### Ans - \n",
    "hardness = 50\n",
    "carbon = 0.7\n",
    "tensile = 5600"
   ]
  },
  {
   "cell_type": "code",
   "execution_count": 50,
   "id": "104761d7-95d0-4056-9156-c22c51bdcc57",
   "metadata": {},
   "outputs": [],
   "source": [
    "condition1 = hardness > 50\n",
    "condition2 = carbon < 0.7\n",
    "condition3 = tensile > 5600"
   ]
  },
  {
   "cell_type": "code",
   "execution_count": 52,
   "id": "7d78a944-dac6-40e8-a40c-75a4a454a7c4",
   "metadata": {},
   "outputs": [
    {
     "name": "stdout",
     "output_type": "stream",
     "text": [
      "The grade of the steel is: 5\n"
     ]
    }
   ],
   "source": [
    "if condition1 and condition2 and condition3:\n",
    "    grade = 10\n",
    "elif condition1 and condition2:\n",
    "    grade = 9\n",
    "elif condition2 and condition3:\n",
    "    grade = 8\n",
    "elif condition1 and condition3:\n",
    "    grade = 7\n",
    "elif condition1 or condition2 or condition3:\n",
    "    grade = 6\n",
    "else:\n",
    "    grade = 5\n",
    "print(f\"The grade of the steel is: {grade}\")"
   ]
  },
  {
   "cell_type": "markdown",
   "id": "87e7dd05-d411-490f-bfd2-bb1f1bf727d5",
   "metadata": {},
   "source": [
    "## 16. A library charges a fine for every book returned late. For first 5 days the fine is 50 paise, for 6-10 days fine is one rupee and above 10 days fine is 5 rupees. If you return the book after 30 days your membership will be cancelled. Write a program to accept the number of days the member is late to return the book and display the fine or the appropriate message."
   ]
  },
  {
   "cell_type": "code",
   "execution_count": 54,
   "id": "2f87348e-6582-4c53-abe4-52bed7ff3b36",
   "metadata": {},
   "outputs": [
    {
     "name": "stdin",
     "output_type": "stream",
     "text": [
      "Enter the number of days late to return the book:  2\n"
     ]
    },
    {
     "name": "stdout",
     "output_type": "stream",
     "text": [
      "The fine for returning the book 2 days late is: Rs. 1.00 paise\n"
     ]
    }
   ],
   "source": [
    "## Ans -\n",
    "days_late = int(input(\"Enter the number of days late to return the book: \"))\n",
    "\n",
    "fine = 0\n",
    "\n",
    "if days_late <= 0:\n",
    "    print(\"The book has been returned on time. No fine.\")\n",
    "elif days_late <= 5:\n",
    "    fine = days_late * 0.50  # 50 paise for each of the first 5 days\n",
    "    print(f\"The fine for returning the book {days_late} days late is: Rs. {fine:.2f} paise\")\n",
    "elif days_late <= 10:\n",
    "    fine = (5 * 0.50) + (days_late - 5) * 1.00  # First 5 days + subsequent days at 1 rupee\n",
    "    print(f\"The fine for returning the book {days_late} days late is: Rs. {fine:.2f}\")\n",
    "elif days_late <= 30:\n",
    "    fine = (5 * 0.50) + (5 * 1.00) + (days_late - 10) * 5.00  # First 10 days + subsequent days at 5 rupees\n",
    "    print(f\"The fine for returning the book {days_late} days late is: Rs. {fine:.2f}\")\n",
    "else:\n",
    "    print(\"Your membership will be cancelled due to returning the book after 30 days.\")\n"
   ]
  },
  {
   "cell_type": "markdown",
   "id": "78606471-ed6e-4841-934a-3f56cac94f55",
   "metadata": {},
   "source": [
    "### 17. In a company, worker efficiency is determined on the basis of the time required for a worker to complete a particular job. If the time taken by the worker is between 2 – 3 hours, then the worker is said to be highly efficient. If the time required by the worker is between 3 – 4 hours, then the worker is ordered to improve speed. If the time taken is between 4 – 5 hours, the worker is given training to improve his speed, and if the time taken by the worker is more than 5 hours, then the worker has to leave the company. If the time taken by the worker is input through the keyboard, find the efficiency of the worker. "
   ]
  },
  {
   "cell_type": "code",
   "execution_count": 55,
   "id": "af7e1bba-1ef5-4a0c-8414-b49b7bb3067b",
   "metadata": {},
   "outputs": [
    {
     "name": "stdin",
     "output_type": "stream",
     "text": [
      "Enter the time taken by the worker (in hours):  4\n"
     ]
    },
    {
     "name": "stdout",
     "output_type": "stream",
     "text": [
      "The worker is: Given training to improve speed\n"
     ]
    }
   ],
   "source": [
    "## Ans - \n",
    "time_taken = float(input(\"Enter the time taken by the worker (in hours): \"))\n",
    "\n",
    "if 2 <= time_taken < 3:\n",
    "    efficiency = \"Highly efficient\"\n",
    "elif 3 <= time_taken < 4:\n",
    "    efficiency = \"Ordered to improve speed\"\n",
    "elif 4 <= time_taken < 5:\n",
    "    efficiency = \"Given training to improve speed\"\n",
    "elif time_taken >= 5:\n",
    "    efficiency = \"Has to leave the company\"\n",
    "else:\n",
    "    efficiency = \"Invalid input, time cannot be less than 0 hours.\"\n",
    "\n",
    "print(f\"The worker is: {efficiency}\")\n"
   ]
  },
  {
   "cell_type": "markdown",
   "id": "2755e68b-01b3-4ef9-bc78-dce771f76ccb",
   "metadata": {},
   "source": [
    "## Task -III "
   ]
  },
  {
   "cell_type": "markdown",
   "id": "554c8452-d859-45a0-ae0a-11cb69760792",
   "metadata": {},
   "source": [
    "## Task -III "
   ]
  },
  {
   "cell_type": "markdown",
   "id": "127d42d9-0b1a-4f2a-8dca-5abea67ac65b",
   "metadata": {},
   "source": [
    "## 1. Write a program to find the factor of the given number. "
   ]
  },
  {
   "cell_type": "code",
   "execution_count": 1,
   "id": "a033cde8-e38c-43f7-a507-511f777063e0",
   "metadata": {},
   "outputs": [
    {
     "name": "stdin",
     "output_type": "stream",
     "text": [
      "Enter a number:  2\n"
     ]
    },
    {
     "name": "stdout",
     "output_type": "stream",
     "text": [
      "Factors of 2 are: [1, 2]\n"
     ]
    }
   ],
   "source": [
    "## Ans -\n",
    "def find_factors(number):\n",
    "    factors = []\n",
    "    for i in range(1, number + 1):\n",
    "        if number % i == 0:\n",
    "            factors.append(i)\n",
    "    return factors\n",
    "\n",
    "# Example usage:\n",
    "number = int(input(\"Enter a number: \"))\n",
    "print(\"Factors of\", number, \"are:\", find_factors(number))\n"
   ]
  },
  {
   "cell_type": "markdown",
   "id": "003a5ed2-9a46-4ed8-b2a8-d0ff76f19048",
   "metadata": {},
   "source": [
    "## 2. Write a program to find whether the given number is prime or not.  "
   ]
  },
  {
   "cell_type": "code",
   "execution_count": 63,
   "id": "75465f91-9068-42ea-85e6-2a8708f31705",
   "metadata": {},
   "outputs": [
    {
     "name": "stdin",
     "output_type": "stream",
     "text": [
      "Enter a number to check if it is prime:  4\n"
     ]
    },
    {
     "name": "stdout",
     "output_type": "stream",
     "text": [
      "4 is not a prime number.\n"
     ]
    }
   ],
   "source": [
    "# Ans - \n",
    "number = int(input(\"Enter a number to check if it is prime: \"))\n",
    "\n",
    "if number < 2:\n",
    "    print(f\"{number} is not a prime number.\")\n",
    "else:\n",
    "    is_prime = True\n",
    "\n",
    "    for i in range(2, number):\n",
    "        if number % i == 0: \n",
    "            is_prime = False\n",
    "            break  \n",
    "\n",
    "    if is_prime:\n",
    "        print(f\"{number} is a prime number.\")\n",
    "    else:\n",
    "        print(f\"{number} is not a prime number.\")\n"
   ]
  },
  {
   "cell_type": "markdown",
   "id": "e12b534f-075f-43ba-a731-9535dd74faea",
   "metadata": {},
   "source": [
    "### 3. Write a program to find the given number is Armstrong number or not. \n"
   ]
  },
  {
   "cell_type": "code",
   "execution_count": 64,
   "id": "182cd56d-bba9-4997-80c3-4daab4443865",
   "metadata": {},
   "outputs": [
    {
     "name": "stdin",
     "output_type": "stream",
     "text": [
      "Enter a number to check if it is an Armstrong number:  44\n"
     ]
    },
    {
     "name": "stdout",
     "output_type": "stream",
     "text": [
      "44 is not an Armstrong number.\n"
     ]
    }
   ],
   "source": [
    "## Ans - \n",
    "number = int(input(\"Enter a number to check if it is an Armstrong number: \"))\n",
    "\n",
    "digits = str(number)\n",
    "num_digits = len(digits)  # Get the number of digits\n",
    "\n",
    "sum_of_powers = 0\n",
    "for digit in digits:\n",
    "    sum_of_powers += int(digit) ** num_digits  # Raise each digit to the power of num_digits\n",
    "\n",
    "if sum_of_powers == number:\n",
    "    print(f\"{number} is an Armstrong number.\")\n",
    "else:\n",
    "    print(f\"{number} is not an Armstrong number.\")\n"
   ]
  },
  {
   "cell_type": "markdown",
   "id": "a86915e1-e14f-406c-9a3d-1adabf17f34b",
   "metadata": {},
   "source": [
    "### 4. Write a program to print the Armstrong numbers between 100 to 999.  "
   ]
  },
  {
   "cell_type": "code",
   "execution_count": 65,
   "id": "10983ffe-1582-4d0d-8c04-d3c7ba74f7e4",
   "metadata": {},
   "outputs": [
    {
     "name": "stdout",
     "output_type": "stream",
     "text": [
      "Armstrong numbers between 100 and 999 are:\n",
      "153\n",
      "370\n",
      "371\n",
      "407\n"
     ]
    }
   ],
   "source": [
    "## Ans - \n",
    "print(\"Armstrong numbers between 100 and 999 are:\")\n",
    "for num in range(100, 1000):\n",
    "    sum_of_powers = sum(int(digit) ** 3 for digit in str(num))\n",
    "    \n",
    "    if sum_of_powers == num:\n",
    "        print(num)\n"
   ]
  },
  {
   "cell_type": "markdown",
   "id": "40f05e04-2105-4140-88b2-def2dec7c107",
   "metadata": {},
   "source": [
    "## 5. Write a program to count and print the number of odd and even numbers. \n"
   ]
  },
  {
   "cell_type": "code",
   "execution_count": 66,
   "id": "bdc3062b-b628-4bec-adc8-fd5b5a745b6f",
   "metadata": {},
   "outputs": [
    {
     "name": "stdout",
     "output_type": "stream",
     "text": [
      "Total even numbers: 50\n",
      "Total odd numbers: 50\n"
     ]
    }
   ],
   "source": [
    "## Ans -\n",
    "even_count = 0\n",
    "odd_count = 0\n",
    "\n",
    "for num in range(1, 101):\n",
    "    if num % 2 == 0:  # Check if the number is even\n",
    "        even_count += 1\n",
    "    else:  # If not even, it is odd\n",
    "        odd_count += 1\n",
    "\n",
    "print(f\"Total even numbers: {even_count}\")\n",
    "print(f\"Total odd numbers: {odd_count}\")\n"
   ]
  },
  {
   "cell_type": "markdown",
   "id": "29357cc3-40de-4981-ba62-ca23b90b51be",
   "metadata": {},
   "source": [
    "## 6. Write a program to find the reverse of n digit number using While loop \n"
   ]
  },
  {
   "cell_type": "code",
   "execution_count": 67,
   "id": "9f553164-6faa-4ea6-8866-225046951af3",
   "metadata": {},
   "outputs": [
    {
     "name": "stdin",
     "output_type": "stream",
     "text": [
      "Enter a number to reverse:  4332\n"
     ]
    }
   ],
   "source": [
    "# Ans - \n",
    "number = int(input(\"Enter a number to reverse: \"))"
   ]
  },
  {
   "cell_type": "code",
   "execution_count": 68,
   "id": "13f850a4-964d-4773-a60e-370e596114bb",
   "metadata": {},
   "outputs": [],
   "source": [
    "reversed_number = 0\n",
    "original_number = number"
   ]
  },
  {
   "cell_type": "code",
   "execution_count": 69,
   "id": "cbc9e0bf-d84d-46f2-8d20-9d1d3c9119f6",
   "metadata": {},
   "outputs": [
    {
     "name": "stdout",
     "output_type": "stream",
     "text": [
      "The reverse of 4332 is 2334.\n"
     ]
    }
   ],
   "source": [
    "while number > 0:\n",
    "    digit = number % 10 \n",
    "    reversed_number = (reversed_number * 10) + digit  \n",
    "    number = number // 10  \n",
    "\n",
    "print(f\"The reverse of {original_number} is {reversed_number}.\")"
   ]
  },
  {
   "cell_type": "markdown",
   "id": "3367116b-b3c5-4128-91e6-9841800d6cd2",
   "metadata": {},
   "source": [
    "## 7. Write a program to find the binary number from given decimal number. \n"
   ]
  },
  {
   "cell_type": "code",
   "execution_count": 73,
   "id": "859fce92-370c-4ded-933f-c49aa8b401fd",
   "metadata": {},
   "outputs": [
    {
     "name": "stdout",
     "output_type": "stream",
     "text": [
      "The binary representation of 10 is 0b1010.\n"
     ]
    }
   ],
   "source": [
    "## Ans - \n",
    "decimal_number = 10\n",
    "\n",
    "binary_number = bin(decimal_number)\n",
    "print(f\"The binary representation of {decimal_number} is {binary_number}.\")\n"
   ]
  },
  {
   "cell_type": "markdown",
   "id": "4159d633-8dd6-4622-9f9a-194713dfa633",
   "metadata": {},
   "source": [
    "### 8. Write a program to find the decimal number from given Binary number. \n"
   ]
  },
  {
   "cell_type": "code",
   "execution_count": 2,
   "id": "dcc163e5-686e-48a6-8d58-348acacfe828",
   "metadata": {},
   "outputs": [
    {
     "name": "stdin",
     "output_type": "stream",
     "text": [
      "Enter a binary number:  2\n"
     ]
    },
    {
     "name": "stdout",
     "output_type": "stream",
     "text": [
      "Decimal of binary number 2 is: 2\n"
     ]
    }
   ],
   "source": [
    "## Ans - \n",
    "def binary_to_decimal(binary):\n",
    "    decimal = 0\n",
    "    for digit in binary:\n",
    "        decimal = decimal * 2 + int(digit)\n",
    "    return decimal\n",
    "\n",
    "# Example usage:\n",
    "binary_number = input(\"Enter a binary number: \")\n",
    "print(\"Decimal of binary number\", binary_number, \"is:\", binary_to_decimal(binary_number))\n"
   ]
  },
  {
   "cell_type": "markdown",
   "id": "dddf4cdd-27c4-4a66-9375-7c1a55f89a37",
   "metadata": {},
   "source": [
    "### 9. Write a program to find the factorial of the given number. "
   ]
  },
  {
   "cell_type": "code",
   "execution_count": 79,
   "id": "5c5c04c2-4655-409b-a45c-dd02afd7349c",
   "metadata": {},
   "outputs": [
    {
     "name": "stdin",
     "output_type": "stream",
     "text": [
      "Enter a non-negative integer:  12\n"
     ]
    },
    {
     "name": "stdout",
     "output_type": "stream",
     "text": [
      "The factorial is: 479001600\n"
     ]
    }
   ],
   "source": [
    "# Ans - \n",
    "number = int(input(\"Enter a non-negative integer: \"))\n",
    "\n",
    "factorial = 1\n",
    "\n",
    "if number < 0:\n",
    "    print(\"Factorial is not defined for negative numbers.\")\n",
    "else:\n",
    "    for i in range(1, number + 1):\n",
    "        factorial *= i  \n",
    "\n",
    "    print(f\"The factorial is: {factorial}\")\n"
   ]
  },
  {
   "cell_type": "markdown",
   "id": "53333dd5-b8d3-44a7-86ce-d126d95de9e9",
   "metadata": {},
   "source": [
    "### 10. Write a program to find the Fibonacci Series of the given number. "
   ]
  },
  {
   "cell_type": "code",
   "execution_count": 81,
   "id": "1353554a-b55f-4de8-939b-068fe303ec7b",
   "metadata": {},
   "outputs": [
    {
     "name": "stdin",
     "output_type": "stream",
     "text": [
      "Enter the number of terms for Fibonacci series:  33\n"
     ]
    },
    {
     "name": "stdout",
     "output_type": "stream",
     "text": [
      "Fibonacci series:\n",
      "0 1 1 2 3 5 8 13 21 34 55 89 144 233 377 610 987 1597 2584 4181 6765 10946 17711 28657 46368 75025 121393 196418 317811 514229 832040 1346269 2178309 \n"
     ]
    }
   ],
   "source": [
    "## Ans -\n",
    "n_terms = int(input(\"Enter the number of terms for Fibonacci series: \"))\n",
    "\n",
    "a, b = 0, 1\n",
    "\n",
    "print(\"Fibonacci series:\")\n",
    "for _ in range(n_terms):\n",
    "    print(a, end=\" \")  \n",
    "    a, b = b, a + b  \n",
    "\n",
    "print()  \n"
   ]
  },
  {
   "cell_type": "markdown",
   "id": "cbc26f1f-fe9f-472d-9194-69f563c1de59",
   "metadata": {},
   "source": [
    "### 11. Write a program to find the given number is perfect number \n"
   ]
  },
  {
   "cell_type": "code",
   "execution_count": 84,
   "id": "72cfd1aa-35d8-425b-b256-807c6d8d4576",
   "metadata": {},
   "outputs": [
    {
     "name": "stdin",
     "output_type": "stream",
     "text": [
      "Enter a positive integer:  20\n"
     ]
    },
    {
     "name": "stdout",
     "output_type": "stream",
     "text": [
      "20 is not a perfect number.\n"
     ]
    }
   ],
   "source": [
    "# Ans - \n",
    "number = int(input(\"Enter a positive integer: \"))\n",
    "\n",
    "sum_of_divisors = sum(i for i in range(1, number) if number % i == 0)\n",
    "\n",
    "if sum_of_divisors == number:\n",
    "    print(f\"{number} is a perfect number.\")\n",
    "else:\n",
    "    print(f\"{number} is not a perfect number.\")\n",
    "\n"
   ]
  },
  {
   "cell_type": "markdown",
   "id": "8185cebd-b1b4-4fb6-b3ce-58f2ee7fa071",
   "metadata": {},
   "source": [
    "### 12. Write a program to print the perfect number between 1-1000 \n"
   ]
  },
  {
   "cell_type": "code",
   "execution_count": 85,
   "id": "33b92644-da72-40df-b6e0-bb2c25031d91",
   "metadata": {},
   "outputs": [
    {
     "name": "stdout",
     "output_type": "stream",
     "text": [
      "Perfect numbers between 1 and 1000:\n",
      "6\n",
      "28\n",
      "496\n"
     ]
    }
   ],
   "source": [
    "## Ans -\n",
    "def is_perfect(number):\n",
    "    sum_of_divisors = sum(i for i in range(1, number) if number % i == 0)\n",
    "    return sum_of_divisors == number\n",
    "\n",
    "print(\"Perfect numbers between 1 and 1000:\")\n",
    "for num in range(1, 1001):\n",
    "    if is_perfect(num):\n",
    "        print(num)\n"
   ]
  },
  {
   "cell_type": "markdown",
   "id": "1b0de29b-a9dd-48ba-b765-58ae510e4b8f",
   "metadata": {},
   "source": [
    "### 13. Write a program to find the given number is strong number \n"
   ]
  },
  {
   "cell_type": "code",
   "execution_count": 86,
   "id": "f7df09d1-7107-44fc-b4a7-8906707ebe5f",
   "metadata": {},
   "outputs": [
    {
     "name": "stdin",
     "output_type": "stream",
     "text": [
      "Enter a positive integer:  30\n"
     ]
    },
    {
     "name": "stdout",
     "output_type": "stream",
     "text": [
      "30 is not a strong number.\n"
     ]
    }
   ],
   "source": [
    "## Ans - \n",
    "import math\n",
    "\n",
    "number = int(input(\"Enter a positive integer: \"))\n",
    "\n",
    "sum_of_factorials = sum(math.factorial(int(digit)) for digit in str(number))\n",
    "\n",
    "if sum_of_factorials == number:\n",
    "    print(f\"{number} is a strong number.\")\n",
    "else:\n",
    "    print(f\"{number} is not a strong number.\")\n"
   ]
  },
  {
   "cell_type": "markdown",
   "id": "342a45c8-e5c1-4195-aa62-32d816647d5c",
   "metadata": {},
   "source": [
    "## 14. Two numbers are entered through the keyboard. Write a program to find the value of one number raised to the power of another. "
   ]
  },
  {
   "cell_type": "code",
   "execution_count": 87,
   "id": "88da7866-2f9a-4f05-9c26-62f3d51c329b",
   "metadata": {},
   "outputs": [
    {
     "name": "stdin",
     "output_type": "stream",
     "text": [
      "Enter the base number:  23\n",
      "Enter the exponent:  21\n"
     ]
    },
    {
     "name": "stdout",
     "output_type": "stream",
     "text": [
      "23.0 raised to the power of 21.0 is: 3.9471584120695487e+28\n"
     ]
    }
   ],
   "source": [
    "# Ans -\n",
    "base = float(input(\"Enter the base number: \"))\n",
    "exponent = float(input(\"Enter the exponent: \"))\n",
    "\n",
    "result = base ** exponent\n",
    "\n",
    "print(f\"{base} raised to the power of {exponent} is: {result}\")\n"
   ]
  },
  {
   "cell_type": "code",
   "execution_count": null,
   "id": "ae47695c-4b3d-44b3-8c57-9715a0376c7d",
   "metadata": {},
   "outputs": [],
   "source": []
  }
 ],
 "metadata": {
  "kernelspec": {
   "display_name": "Python 3 (ipykernel)",
   "language": "python",
   "name": "python3"
  },
  "language_info": {
   "codemirror_mode": {
    "name": "ipython",
    "version": 3
   },
   "file_extension": ".py",
   "mimetype": "text/x-python",
   "name": "python",
   "nbconvert_exporter": "python",
   "pygments_lexer": "ipython3",
   "version": "3.11.7"
  }
 },
 "nbformat": 4,
 "nbformat_minor": 5
}
